{
 "cells": [
  {
   "cell_type": "code",
   "execution_count": null,
   "id": "1f4dc07f",
   "metadata": {},
   "outputs": [],
   "source": [
    "import numpy as np \n",
    "a, b = None, None\n",
    "\n",
    "def SGD(a):\n",
    "    results = []\n",
    "    results.append(1)\n",
    "    for i in range(1, int(np.sqrt(a))):\n",
    "        if isinstance(a/i, int):\n",
    "            append\n"
   ]
  }
 ],
 "metadata": {
  "language_info": {
   "name": "python"
  }
 },
 "nbformat": 4,
 "nbformat_minor": 5
}
