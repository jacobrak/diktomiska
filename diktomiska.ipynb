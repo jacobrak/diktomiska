{
 "cells": [
  {
   "cell_type": "code",
   "execution_count": null,
   "id": "1f4dc07f",
   "metadata": {},
   "outputs": [],
   "source": [
    "import numpy as np \n",
    "a, b = 30, 15\n",
    "\n",
    "def SGD(a):\n",
    "    results = []\n",
    "    for i in range(1, a + 1):\n",
    "        number = a/i \n",
    "        if number == int(number):\n",
    "            results.append(int(a/i))\n",
    "    return sorted(results)\n",
    "\n",
    "def largest_SGD(a, b):\n",
    "    # B is smaller\n",
    "    for number in sorted(b, reverse=True):\n",
    "        if number in a:\n",
    "            return number\n"
   ]
  },
  {
   "cell_type": "code",
   "execution_count": 32,
   "id": "53b3fe1c",
   "metadata": {},
   "outputs": [
    {
     "name": "stdout",
     "output_type": "stream",
     "text": [
      "[1, 3, 5, 15]\n"
     ]
    },
    {
     "data": {
      "text/plain": [
       "15"
      ]
     },
     "execution_count": 32,
     "metadata": {},
     "output_type": "execute_result"
    }
   ],
   "source": [
    "largest_SGD(SGD(a), SGD(b))"
   ]
  },
  {
   "cell_type": "code",
   "execution_count": null,
   "id": "d789a85c",
   "metadata": {},
   "outputs": [
    {
     "ename": "NameError",
     "evalue": "name 'i' is not defined",
     "output_type": "error",
     "traceback": [
      "\u001b[1;31m---------------------------------------------------------------------------\u001b[0m",
      "\u001b[1;31mNameError\u001b[0m                                 Traceback (most recent call last)",
      "Cell \u001b[1;32mIn[5], line 1\u001b[0m\n\u001b[1;32m----> 1\u001b[0m \u001b[38;5;241m2\u001b[39m\u001b[38;5;241m/\u001b[39m\u001b[43mi\u001b[49m\n",
      "\u001b[1;31mNameError\u001b[0m: name 'i' is not defined"
     ]
    }
   ],
   "source": []
  },
  {
   "cell_type": "code",
   "execution_count": null,
   "id": "94e6951f",
   "metadata": {},
   "outputs": [],
   "source": []
  }
 ],
 "metadata": {
  "kernelspec": {
   "display_name": "Python 3",
   "language": "python",
   "name": "python3"
  },
  "language_info": {
   "codemirror_mode": {
    "name": "ipython",
    "version": 3
   },
   "file_extension": ".py",
   "mimetype": "text/x-python",
   "name": "python",
   "nbconvert_exporter": "python",
   "pygments_lexer": "ipython3",
   "version": "3.12.1"
  }
 },
 "nbformat": 4,
 "nbformat_minor": 5
}
