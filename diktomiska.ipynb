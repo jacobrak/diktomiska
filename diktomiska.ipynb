{
 "cells": [
  {
   "cell_type": "code",
   "execution_count": 34,
   "id": "1f4dc07f",
   "metadata": {},
   "outputs": [],
   "source": [
    "import numpy as np \n",
    "a, b = 30, 15\n",
    "\n",
    "def SGD(a):\n",
    "    results = []\n",
    "    for i in range(1, a + 1):\n",
    "        number = a/i \n",
    "        if number == int(number):\n",
    "            results.append(int(a/i))\n",
    "    return sorted(results)\n",
    "\n",
    "def largest_SGD(a, b):\n",
    "    # B is smaller\n",
    "    for number in sorted(b, reverse=True):\n",
    "        if number in a:\n",
    "            return number\n"
   ]
  },
  {
   "cell_type": "code",
   "execution_count": 35,
   "id": "53b3fe1c",
   "metadata": {},
   "outputs": [
    {
     "data": {
      "text/plain": [
       "15"
      ]
     },
     "execution_count": 35,
     "metadata": {},
     "output_type": "execute_result"
    }
   ],
   "source": [
    "largest_SGD(SGD(a), SGD(b))"
   ]
  },
  {
   "cell_type": "code",
   "execution_count": 7,
   "id": "1428b9c4",
   "metadata": {},
   "outputs": [
    {
     "name": "stdout",
     "output_type": "stream",
     "text": [
      "1\n",
      "-2\n",
      "4\n",
      "-8\n",
      "16\n",
      "-32\n",
      "64\n",
      "-128\n",
      "256\n",
      "-512\n",
      "1024\n"
     ]
    }
   ],
   "source": [
    "sum = 0\n",
    "number = 1\n",
    "k=0\n",
    "while number < 1024:\n",
    "    number = ((-2)**k)\n",
    "    sum += number\n",
    "    k += 1\n",
    "    print(number)"
   ]
  },
  {
   "cell_type": "code",
   "execution_count": 8,
   "id": "43e64903",
   "metadata": {},
   "outputs": [
    {
     "data": {
      "text/plain": [
       "683"
      ]
     },
     "execution_count": 8,
     "metadata": {},
     "output_type": "execute_result"
    }
   ],
   "source": [
    "sum"
   ]
  },
  {
   "cell_type": "code",
   "execution_count": null,
   "id": "be6e5127",
   "metadata": {},
   "outputs": [],
   "source": []
  }
 ],
 "metadata": {
  "kernelspec": {
   "display_name": "Python 3",
   "language": "python",
   "name": "python3"
  },
  "language_info": {
   "codemirror_mode": {
    "name": "ipython",
    "version": 3
   },
   "file_extension": ".py",
   "mimetype": "text/x-python",
   "name": "python",
   "nbconvert_exporter": "python",
   "pygments_lexer": "ipython3",
   "version": "3.12.1"
  }
 },
 "nbformat": 4,
 "nbformat_minor": 5
}
